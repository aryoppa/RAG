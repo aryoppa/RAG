{
  "cells": [
    {
      "cell_type": "code",
      "execution_count": 13,
      "metadata": {
        "id": "AeSMdCYevpOg"
      },
      "outputs": [],
      "source": [
        "import pandas as pd\n",
        "import openai\n",
        "from openai import OpenAI"
      ]
    },
    {
      "cell_type": "code",
      "execution_count": 14,
      "metadata": {
        "colab": {
          "base_uri": "https://localhost:8080/",
          "height": 423
        },
        "id": "2wNqF7PbLEej",
        "outputId": "de03749b-7057-4661-f01d-3467afab176b"
      },
      "outputs": [
        {
          "data": {
            "text/html": [
              "<div>\n",
              "<style scoped>\n",
              "    .dataframe tbody tr th:only-of-type {\n",
              "        vertical-align: middle;\n",
              "    }\n",
              "\n",
              "    .dataframe tbody tr th {\n",
              "        vertical-align: top;\n",
              "    }\n",
              "\n",
              "    .dataframe thead th {\n",
              "        text-align: right;\n",
              "    }\n",
              "</style>\n",
              "<table border=\"1\" class=\"dataframe\">\n",
              "  <thead>\n",
              "    <tr style=\"text-align: right;\">\n",
              "      <th></th>\n",
              "      <th>konten</th>\n",
              "    </tr>\n",
              "  </thead>\n",
              "  <tbody>\n",
              "    <tr>\n",
              "      <th>0</th>\n",
              "      <td>Pertanyaan: HS Code pada COO masih menggunakan...</td>\n",
              "    </tr>\n",
              "    <tr>\n",
              "      <th>1</th>\n",
              "      <td>Pertanyaan: Jika saya telah melakukan pelapora...</td>\n",
              "    </tr>\n",
              "    <tr>\n",
              "      <th>2</th>\n",
              "      <td>Pertanyaan: Tahapan mendapatkan user Single Su...</td>\n",
              "    </tr>\n",
              "    <tr>\n",
              "      <th>3</th>\n",
              "      <td>Pertanyaan: Temukan Bug ?\\n\\nJawaban: Jika and...</td>\n",
              "    </tr>\n",
              "    <tr>\n",
              "      <th>4</th>\n",
              "      <td>Pertanyaan: Defenisi Rencana Impor\\n\\nJawaban:...</td>\n",
              "    </tr>\n",
              "    <tr>\n",
              "      <th>...</th>\n",
              "      <td>...</td>\n",
              "    </tr>\n",
              "    <tr>\n",
              "      <th>715</th>\n",
              "      <td>Pertanyaan: Pengisian data nilai produk jadi p...</td>\n",
              "    </tr>\n",
              "    <tr>\n",
              "      <th>716</th>\n",
              "      <td>Pertanyaan: Pemenuhan dokumen persyaratan di S...</td>\n",
              "    </tr>\n",
              "    <tr>\n",
              "      <th>717</th>\n",
              "      <td>Pertanyaan: Penggunaan meterai pada dokumen pe...</td>\n",
              "    </tr>\n",
              "    <tr>\n",
              "      <th>718</th>\n",
              "      <td>Pertanyaan: Pengaturan Surat Pernyataan Form I...</td>\n",
              "    </tr>\n",
              "    <tr>\n",
              "      <th>719</th>\n",
              "      <td>Pertanyaan: Definisi dan Format Formulir IIf \\...</td>\n",
              "    </tr>\n",
              "  </tbody>\n",
              "</table>\n",
              "<p>720 rows × 1 columns</p>\n",
              "</div>"
            ],
            "text/plain": [
              "                                                konten\n",
              "0    Pertanyaan: HS Code pada COO masih menggunakan...\n",
              "1    Pertanyaan: Jika saya telah melakukan pelapora...\n",
              "2    Pertanyaan: Tahapan mendapatkan user Single Su...\n",
              "3    Pertanyaan: Temukan Bug ?\\n\\nJawaban: Jika and...\n",
              "4    Pertanyaan: Defenisi Rencana Impor\\n\\nJawaban:...\n",
              "..                                                 ...\n",
              "715  Pertanyaan: Pengisian data nilai produk jadi p...\n",
              "716  Pertanyaan: Pemenuhan dokumen persyaratan di S...\n",
              "717  Pertanyaan: Penggunaan meterai pada dokumen pe...\n",
              "718  Pertanyaan: Pengaturan Surat Pernyataan Form I...\n",
              "719  Pertanyaan: Definisi dan Format Formulir IIf \\...\n",
              "\n",
              "[720 rows x 1 columns]"
            ]
          },
          "execution_count": 14,
          "metadata": {},
          "output_type": "execute_result"
        }
      ],
      "source": [
        "input_datapath = \"pusatbantuan_lnsw_fix.xlsx\"\n",
        "df = pd.read_excel(input_datapath)\n",
        "df\n"
      ]
    },
    {
      "cell_type": "code",
      "execution_count": 8,
      "metadata": {
        "colab": {
          "base_uri": "https://localhost:8080/"
        },
        "id": "OlNtdhEoLZP4",
        "outputId": "dd004891-be83-4792-8392-8f6549cc1400"
      },
      "outputs": [],
      "source": [
        "from getpass import getpass\n",
        "client = OpenAI(\n",
        "    # This is the default and can be omitted\n",
        "    api_key=getpass(),\n",
        ")"
      ]
    },
    {
      "cell_type": "code",
      "execution_count": 9,
      "metadata": {
        "id": "QEEZRJvMw6ZH"
      },
      "outputs": [],
      "source": [
        "\n",
        "def get_embedding(text, model=\"text-embedding-ada-002\"):\n",
        "    text = text.replace(\"\\n\", \" \")\n",
        "    response = client.embeddings.create(input=[text], model=model)\n",
        "    return response.data[0].embedding"
      ]
    },
    {
      "cell_type": "code",
      "execution_count": 10,
      "metadata": {
        "id": "wUfA9V6KLpRA"
      },
      "outputs": [],
      "source": [
        "df['embedding'] = df['konten'].apply(lambda x: get_embedding(x))\n",
        "df.to_csv('fix_pusatbantuan_embedding_embedding_ada002.csv')"
      ]
    },
    {
      "cell_type": "code",
      "execution_count": 12,
      "metadata": {
        "colab": {
          "base_uri": "https://localhost:8080/"
        },
        "id": "31uZ__v2MXFP",
        "outputId": "d7d73531-d3c4-4a9f-aea3-f2f7468395c0"
      },
      "outputs": [
        {
          "data": {
            "text/html": [
              "<div>\n",
              "<style scoped>\n",
              "    .dataframe tbody tr th:only-of-type {\n",
              "        vertical-align: middle;\n",
              "    }\n",
              "\n",
              "    .dataframe tbody tr th {\n",
              "        vertical-align: top;\n",
              "    }\n",
              "\n",
              "    .dataframe thead th {\n",
              "        text-align: right;\n",
              "    }\n",
              "</style>\n",
              "<table border=\"1\" class=\"dataframe\">\n",
              "  <thead>\n",
              "    <tr style=\"text-align: right;\">\n",
              "      <th></th>\n",
              "      <th>konten</th>\n",
              "      <th>embedding</th>\n",
              "    </tr>\n",
              "  </thead>\n",
              "  <tbody>\n",
              "    <tr>\n",
              "      <th>0</th>\n",
              "      <td>Pertanyaan: HS Code pada COO masih menggunakan...</td>\n",
              "      <td>[-0.0025720393750816584, -0.007324109319597483...</td>\n",
              "    </tr>\n",
              "    <tr>\n",
              "      <th>1</th>\n",
              "      <td>Pertanyaan: Jika saya telah melakukan pelapora...</td>\n",
              "      <td>[-0.0021510471124202013, -0.01045077946037054,...</td>\n",
              "    </tr>\n",
              "    <tr>\n",
              "      <th>2</th>\n",
              "      <td>Pertanyaan: Tahapan mendapatkan user Single Su...</td>\n",
              "      <td>[0.007434280123561621, 0.0021491828374564648, ...</td>\n",
              "    </tr>\n",
              "    <tr>\n",
              "      <th>3</th>\n",
              "      <td>Pertanyaan: Temukan Bug ?\\n\\nJawaban: Jika and...</td>\n",
              "      <td>[0.002680474426597357, 0.006999108009040356, 0...</td>\n",
              "    </tr>\n",
              "    <tr>\n",
              "      <th>4</th>\n",
              "      <td>Pertanyaan: Defenisi Rencana Impor\\n\\nJawaban:...</td>\n",
              "      <td>[0.01647317223250866, -0.029046153649687767, -...</td>\n",
              "    </tr>\n",
              "    <tr>\n",
              "      <th>...</th>\n",
              "      <td>...</td>\n",
              "      <td>...</td>\n",
              "    </tr>\n",
              "    <tr>\n",
              "      <th>715</th>\n",
              "      <td>Pertanyaan: Pengisian data nilai produk jadi p...</td>\n",
              "      <td>[-0.0056393942795693874, -0.011398988775908947...</td>\n",
              "    </tr>\n",
              "    <tr>\n",
              "      <th>716</th>\n",
              "      <td>Pertanyaan: Pemenuhan dokumen persyaratan di S...</td>\n",
              "      <td>[-0.008240176364779472, -0.00948184635490179, ...</td>\n",
              "    </tr>\n",
              "    <tr>\n",
              "      <th>717</th>\n",
              "      <td>Pertanyaan: Penggunaan meterai pada dokumen pe...</td>\n",
              "      <td>[-0.005782833322882652, -0.009892728179693222,...</td>\n",
              "    </tr>\n",
              "    <tr>\n",
              "      <th>718</th>\n",
              "      <td>Pertanyaan: Pengaturan Surat Pernyataan Form I...</td>\n",
              "      <td>[-0.006960765458643436, -0.017124950885772705,...</td>\n",
              "    </tr>\n",
              "    <tr>\n",
              "      <th>719</th>\n",
              "      <td>Pertanyaan: Definisi dan Format Formulir IIf \\...</td>\n",
              "      <td>[-0.0035393110010772943, -0.010771236382424831...</td>\n",
              "    </tr>\n",
              "  </tbody>\n",
              "</table>\n",
              "<p>720 rows × 2 columns</p>\n",
              "</div>"
            ],
            "text/plain": [
              "                                                konten  \\\n",
              "0    Pertanyaan: HS Code pada COO masih menggunakan...   \n",
              "1    Pertanyaan: Jika saya telah melakukan pelapora...   \n",
              "2    Pertanyaan: Tahapan mendapatkan user Single Su...   \n",
              "3    Pertanyaan: Temukan Bug ?\\n\\nJawaban: Jika and...   \n",
              "4    Pertanyaan: Defenisi Rencana Impor\\n\\nJawaban:...   \n",
              "..                                                 ...   \n",
              "715  Pertanyaan: Pengisian data nilai produk jadi p...   \n",
              "716  Pertanyaan: Pemenuhan dokumen persyaratan di S...   \n",
              "717  Pertanyaan: Penggunaan meterai pada dokumen pe...   \n",
              "718  Pertanyaan: Pengaturan Surat Pernyataan Form I...   \n",
              "719  Pertanyaan: Definisi dan Format Formulir IIf \\...   \n",
              "\n",
              "                                             embedding  \n",
              "0    [-0.0025720393750816584, -0.007324109319597483...  \n",
              "1    [-0.0021510471124202013, -0.01045077946037054,...  \n",
              "2    [0.007434280123561621, 0.0021491828374564648, ...  \n",
              "3    [0.002680474426597357, 0.006999108009040356, 0...  \n",
              "4    [0.01647317223250866, -0.029046153649687767, -...  \n",
              "..                                                 ...  \n",
              "715  [-0.0056393942795693874, -0.011398988775908947...  \n",
              "716  [-0.008240176364779472, -0.00948184635490179, ...  \n",
              "717  [-0.005782833322882652, -0.009892728179693222,...  \n",
              "718  [-0.006960765458643436, -0.017124950885772705,...  \n",
              "719  [-0.0035393110010772943, -0.010771236382424831...  \n",
              "\n",
              "[720 rows x 2 columns]"
            ]
          },
          "execution_count": 12,
          "metadata": {},
          "output_type": "execute_result"
        }
      ],
      "source": [
        "df"
      ]
    }
  ],
  "metadata": {
    "accelerator": "GPU",
    "colab": {
      "gpuType": "V100",
      "provenance": []
    },
    "kernelspec": {
      "display_name": "Python 3",
      "name": "python3"
    },
    "language_info": {
      "codemirror_mode": {
        "name": "ipython",
        "version": 3
      },
      "file_extension": ".py",
      "mimetype": "text/x-python",
      "name": "python",
      "nbconvert_exporter": "python",
      "pygments_lexer": "ipython3",
      "version": "3.10.0"
    }
  },
  "nbformat": 4,
  "nbformat_minor": 0
}
